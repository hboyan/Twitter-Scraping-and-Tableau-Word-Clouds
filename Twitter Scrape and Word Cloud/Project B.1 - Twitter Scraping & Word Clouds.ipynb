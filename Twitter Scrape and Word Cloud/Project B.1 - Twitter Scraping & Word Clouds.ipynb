{
 "cells": [
  {
   "cell_type": "markdown",
   "metadata": {},
   "source": [
    "# Scraping  Twitter and Create Word Clouds.\n",
    "\n",
    "For fun and for a share for my class I descided to scrap twitter accounts and create word clouds to see what each presidential canidate was saying most often in their tweets.  \n",
    "\n",
    "I use Python and the tweepy library for the scraping and datacleaning/transforming.\n",
    "Tableau for the word cloud visualization. "
   ]
  },
  {
   "cell_type": "code",
   "execution_count": 27,
   "metadata": {
    "collapsed": true
   },
   "outputs": [],
   "source": [
    "# Necessary imports\n",
    "import pandas as pd\n",
    "import csv\n",
    "\n",
    "# Tweepy is a library for use with twitter api\n",
    "import tweepy  \n",
    "from tweepy import OAuthHandler"
   ]
  },
  {
   "cell_type": "code",
   "execution_count": 18,
   "metadata": {
    "collapsed": true
   },
   "outputs": [],
   "source": [
    "# Tweepy is a library for use with twitter api\n",
    "import tweepy  \n",
    "from tweepy import OAuthHandler"
   ]
  },
  {
   "cell_type": "markdown",
   "metadata": {},
   "source": [
    "1. Create a twitter account if you dont allready have one.\n",
    "    You will need to link a phone number with your account in order to use the twitter API\n",
    "2. Log in at https://apps.twitter.com/\n",
    "    If you somehow land on the Twitter Dev page scroll to the bottom and select 'Manage You Apps'\n",
    "3. Create an app to get your consumer and Access Keys and secrets.  \n",
    "    I used Google.com as my url because, why not.  \n",
    "4. Use this scraper I found on GitHub (see below)\n",
    "\n",
    "I also found this guide somewhat helpful.\n",
    "http://knightlab.northwestern.edu/2014/03/15/a-beginners-guide-to-collecting-twitter-data-and-a-bit-of-web-scraping/"
   ]
  },
  {
   "cell_type": "code",
   "execution_count": 22,
   "metadata": {
    "collapsed": true
   },
   "outputs": [],
   "source": [
    "# You must have an active twitter account to register your account for API us to get the below.\n",
    "\n",
    "consumer_key = 'XXXXXXXXXXXXXXXXX'\n",
    "consumer_secret = 'XXXXXXXXXXXXXXXXX'\n",
    "access_key = 'XXXXXXXXXXXXXXXXX'\n",
    "access_secret = 'XXXXXXXXXXXXXXXXX'\n",
    " \n",
    "auth = OAuthHandler(consumer_key, consumer_secret)\n",
    "auth.set_access_token(access_token, access_secret)\n",
    " \n",
    "api = tweepy.API(auth)"
   ]
  },
  {
   "cell_type": "markdown",
   "metadata": {},
   "source": [
    "I pulled the below code from https://gist.github.com/yanofsky/5436496\n",
    "\n",
    "Got to give credit to 'Yan of Sky' or 'Yanofsky'  which ever he prefers.  "
   ]
  },
  {
   "cell_type": "code",
   "execution_count": 23,
   "metadata": {
    "collapsed": true
   },
   "outputs": [],
   "source": [
    "def get_all_tweets(screen_name):\n",
    "    #Twitter only allows access to a users most recent 3240 tweets with this method\n",
    "\n",
    "    #authorize twitter, initialize tweepy\n",
    "    auth = tweepy.OAuthHandler(consumer_key, consumer_secret)\n",
    "    auth.set_access_token(access_key, access_secret)\n",
    "    api = tweepy.API(auth)\n",
    "    \n",
    "    #initialize a list to hold all the tweepy Tweets\n",
    "    alltweets = []\n",
    "    \n",
    "    #make initial request for most recent tweets (200 is the maximum allowed count)\n",
    "    new_tweets = api.user_timeline(screen_name = screen_name,count=200)\n",
    "    \n",
    "    #save most recent tweets\n",
    "    alltweets.extend(new_tweets)\n",
    "    \n",
    "    #save the id of the oldest tweet less one\n",
    "    oldest = alltweets[-1].id - 1\n",
    "\n",
    "    #keep grabbing tweets until there are no tweets left to grab\n",
    "    while len(new_tweets) > 0:\n",
    "        print \"getting tweets before %s\" % (oldest)\n",
    "        \n",
    "        #all subsiquent requests use the max_id param to prevent duplicates\n",
    "        new_tweets = api.user_timeline(screen_name = screen_name,count=200,max_id=oldest)\n",
    "        \n",
    "        #save most recent tweets\n",
    "        alltweets.extend(new_tweets)\n",
    "        \n",
    "        #update the id of the oldest tweet less one\n",
    "        oldest = alltweets[-1].id - 1\n",
    "        \n",
    "        print \"...%s tweets downloaded so far\" % (len(alltweets))\n",
    "    \n",
    "    #transform the tweepy tweets into a 2D array that will populate the csv\t\n",
    "    outtweets = [[tweet.id_str, tweet.created_at, tweet.text.encode(\"utf-8\")] for tweet in alltweets]\n",
    "    \n",
    "    #write the csv\n",
    "    with open('%s_tweets.csv' % screen_name, 'wb') as f:\n",
    "        writer = csv.writer(f)\n",
    "        writer.writerow([\"id\",\"created_at\",\"text\"])\n",
    "        writer.writerows(outtweets)\n",
    "    \n",
    "    pass"
   ]
  },
  {
   "cell_type": "code",
   "execution_count": null,
   "metadata": {
    "collapsed": true
   },
   "outputs": [],
   "source": [
    "# Getting the real donald trumps tweets\n",
    "\n",
    "if __name__ == '__main__':\n",
    "    \n",
    "    get_all_tweets(\"realDonaldTrump\")"
   ]
  },
  {
   "cell_type": "code",
   "execution_count": null,
   "metadata": {
    "collapsed": true
   },
   "outputs": [],
   "source": [
    "# Getting Chillary Clintons tweets\n",
    "if __name__ == '__main__':\n",
    "    \n",
    "    get_all_tweets(\"HillaryClinton\")"
   ]
  },
  {
   "cell_type": "code",
   "execution_count": null,
   "metadata": {
    "collapsed": true
   },
   "outputs": [],
   "source": [
    "# Getting Gary johnsons Tweets\n",
    "\n",
    "if __name__ == '__main__':\n",
    "\n",
    "    get_all_tweets(\"GovGaryJohnson\")"
   ]
  },
  {
   "cell_type": "code",
   "execution_count": 31,
   "metadata": {
    "collapsed": true
   },
   "outputs": [],
   "source": [
    "trump = pd.read_csv('realDonaldTrump_tweets.csv')\n",
    "hillary = pd.read_csv('HillaryClinton_tweets.csv')\n",
    "gary = pd.read_csv('GovGaryJohnson_tweets.csv')"
   ]
  },
  {
   "cell_type": "code",
   "execution_count": 47,
   "metadata": {
    "collapsed": false
   },
   "outputs": [
    {
     "data": {
      "text/html": [
       "<div>\n",
       "<table border=\"1\" class=\"dataframe\">\n",
       "  <thead>\n",
       "    <tr style=\"text-align: right;\">\n",
       "      <th></th>\n",
       "      <th>id</th>\n",
       "      <th>created_at</th>\n",
       "      <th>text</th>\n",
       "    </tr>\n",
       "  </thead>\n",
       "  <tbody>\n",
       "    <tr>\n",
       "      <th>0</th>\n",
       "      <td>778968533749338112</td>\n",
       "      <td>2016-09-22 14:45:45</td>\n",
       "      <td>Join me in Roanoke, Virginia on Saturday eveni...</td>\n",
       "    </tr>\n",
       "    <tr>\n",
       "      <th>1</th>\n",
       "      <td>778912230633005056</td>\n",
       "      <td>2016-09-22 11:02:01</td>\n",
       "      <td>Will be on @foxandfriends now.</td>\n",
       "    </tr>\n",
       "    <tr>\n",
       "      <th>2</th>\n",
       "      <td>778760237629210624</td>\n",
       "      <td>2016-09-22 00:58:03</td>\n",
       "      <td>I will be interviewed from Cleveland, Ohio, on...</td>\n",
       "    </tr>\n",
       "  </tbody>\n",
       "</table>\n",
       "</div>"
      ],
      "text/plain": [
       "                   id           created_at  \\\n",
       "0  778968533749338112  2016-09-22 14:45:45   \n",
       "1  778912230633005056  2016-09-22 11:02:01   \n",
       "2  778760237629210624  2016-09-22 00:58:03   \n",
       "\n",
       "                                                text  \n",
       "0  Join me in Roanoke, Virginia on Saturday eveni...  \n",
       "1                     Will be on @foxandfriends now.  \n",
       "2  I will be interviewed from Cleveland, Ohio, on...  "
      ]
     },
     "execution_count": 47,
     "metadata": {},
     "output_type": "execute_result"
    }
   ],
   "source": [
    "trump.head(3)"
   ]
  },
  {
   "cell_type": "code",
   "execution_count": 64,
   "metadata": {
    "collapsed": false
   },
   "outputs": [
    {
     "data": {
      "text/html": [
       "<div>\n",
       "<table border=\"1\" class=\"dataframe\">\n",
       "  <thead>\n",
       "    <tr style=\"text-align: right;\">\n",
       "      <th></th>\n",
       "      <th>id</th>\n",
       "      <th>created_at</th>\n",
       "      <th>text</th>\n",
       "    </tr>\n",
       "  </thead>\n",
       "  <tbody>\n",
       "    <tr>\n",
       "      <th>0</th>\n",
       "      <td>779066671067762692</td>\n",
       "      <td>2016-09-22 21:15:43</td>\n",
       "      <td>Donald Trump's ties to Russia may conflict wit...</td>\n",
       "    </tr>\n",
       "    <tr>\n",
       "      <th>1</th>\n",
       "      <td>779058340315951104</td>\n",
       "      <td>2016-09-22 20:42:37</td>\n",
       "      <td>Very concerned about the outage in Puerto Rico...</td>\n",
       "    </tr>\n",
       "    <tr>\n",
       "      <th>2</th>\n",
       "      <td>779055195607166977</td>\n",
       "      <td>2016-09-22 20:30:07</td>\n",
       "      <td>The man who could be your next president may b...</td>\n",
       "    </tr>\n",
       "  </tbody>\n",
       "</table>\n",
       "</div>"
      ],
      "text/plain": [
       "                   id           created_at  \\\n",
       "0  779066671067762692  2016-09-22 21:15:43   \n",
       "1  779058340315951104  2016-09-22 20:42:37   \n",
       "2  779055195607166977  2016-09-22 20:30:07   \n",
       "\n",
       "                                                text  \n",
       "0  Donald Trump's ties to Russia may conflict wit...  \n",
       "1  Very concerned about the outage in Puerto Rico...  \n",
       "2  The man who could be your next president may b...  "
      ]
     },
     "execution_count": 64,
     "metadata": {},
     "output_type": "execute_result"
    }
   ],
   "source": [
    "hillary.head(3)"
   ]
  },
  {
   "cell_type": "code",
   "execution_count": 49,
   "metadata": {
    "collapsed": false
   },
   "outputs": [
    {
     "data": {
      "text/html": [
       "<div>\n",
       "<table border=\"1\" class=\"dataframe\">\n",
       "  <thead>\n",
       "    <tr style=\"text-align: right;\">\n",
       "      <th></th>\n",
       "      <th>id</th>\n",
       "      <th>created_at</th>\n",
       "      <th>text</th>\n",
       "    </tr>\n",
       "  </thead>\n",
       "  <tbody>\n",
       "    <tr>\n",
       "      <th>0</th>\n",
       "      <td>779080197782077440</td>\n",
       "      <td>2016-09-22 22:09:28</td>\n",
       "      <td>Snapping tonight. #teamgov #snapchat https://t...</td>\n",
       "    </tr>\n",
       "    <tr>\n",
       "      <th>1</th>\n",
       "      <td>779047633679683584</td>\n",
       "      <td>2016-09-22 20:00:04</td>\n",
       "      <td>Yes, I KNOW why I'm voting. https://t.co/FhOsY...</td>\n",
       "    </tr>\n",
       "    <tr>\n",
       "      <th>2</th>\n",
       "      <td>779032879993069568</td>\n",
       "      <td>2016-09-22 19:01:26</td>\n",
       "      <td>62% of Americans want real debates. Sign the p...</td>\n",
       "    </tr>\n",
       "  </tbody>\n",
       "</table>\n",
       "</div>"
      ],
      "text/plain": [
       "                   id           created_at  \\\n",
       "0  779080197782077440  2016-09-22 22:09:28   \n",
       "1  779047633679683584  2016-09-22 20:00:04   \n",
       "2  779032879993069568  2016-09-22 19:01:26   \n",
       "\n",
       "                                                text  \n",
       "0  Snapping tonight. #teamgov #snapchat https://t...  \n",
       "1  Yes, I KNOW why I'm voting. https://t.co/FhOsY...  \n",
       "2  62% of Americans want real debates. Sign the p...  "
      ]
     },
     "execution_count": 49,
     "metadata": {},
     "output_type": "execute_result"
    }
   ],
   "source": [
    "gary.head(3)"
   ]
  },
  {
   "cell_type": "code",
   "execution_count": 34,
   "metadata": {
    "collapsed": true
   },
   "outputs": [],
   "source": [
    "import itertools"
   ]
  },
  {
   "cell_type": "markdown",
   "metadata": {},
   "source": [
    "This next part is converting the text column which we want into rows of just one word per row"
   ]
  },
  {
   "cell_type": "code",
   "execution_count": 79,
   "metadata": {
    "collapsed": true
   },
   "outputs": [],
   "source": [
    "# First we convert each twitter post into a list with each list value being a single word\n",
    "trump_list = trump['text'].apply(lambda x: x.split(' '))\n",
    "\n",
    "X_trump = []\n",
    "for item in trump_list:\n",
    "    X_trump.append(item)\n",
    "# now we have a list of lists where each individual list is a tweet and each list component is a separate word.    \n",
    "\n",
    "#iterates through each list and makes it just one single list for all words.\n",
    "X_trump2 = list(itertools.chain.from_iterable(X_trump))"
   ]
  },
  {
   "cell_type": "code",
   "execution_count": null,
   "metadata": {
    "collapsed": true
   },
   "outputs": [],
   "source": [
    "trump_df = pd.DataFrame(X_trump2)\n",
    "trump_df[0] = trump_df[0].str.lower()\n"
   ]
  },
  {
   "cell_type": "code",
   "execution_count": 65,
   "metadata": {
    "collapsed": true
   },
   "outputs": [],
   "source": [
    "hillary_list = hillary['text'].apply(lambda x: x.split(' '))\n",
    "\n",
    "X_hillary = []\n",
    "for item in hillary_list:\n",
    "    X_hillary.append(item)\n",
    "    \n",
    "\n",
    "X_hillary2 = list(itertools.chain.from_iterable(X_hillary))"
   ]
  },
  {
   "cell_type": "code",
   "execution_count": 67,
   "metadata": {
    "collapsed": false
   },
   "outputs": [],
   "source": [
    "hillary_df = pd.DataFrame(X_hillary2)\n",
    "hillary_df[0] = hillary_df[0].str.lower()"
   ]
  },
  {
   "cell_type": "code",
   "execution_count": 45,
   "metadata": {
    "collapsed": true
   },
   "outputs": [],
   "source": [
    "gary_list = gary['text'].apply(lambda x: x.split(' '))\n",
    "\n",
    "X_gary = []\n",
    "for item in gary_list:\n",
    "    X_gary.append(item)\n",
    "    \n",
    "X_gary2 = list(itertools.chain.from_iterable(X_gary))"
   ]
  },
  {
   "cell_type": "code",
   "execution_count": null,
   "metadata": {
    "collapsed": true
   },
   "outputs": [],
   "source": [
    "gary_df = pd.DataFrame(X_gary2)\n",
    "gary_df[0] = gary_df[0].str.lower()\n"
   ]
  },
  {
   "cell_type": "markdown",
   "metadata": {},
   "source": [
    "Time to remove stop words.  I converted all my words to lowercase earlier so Stop_Words doesnt miss case sensitivity.  "
   ]
  },
  {
   "cell_type": "code",
   "execution_count": 50,
   "metadata": {
    "collapsed": true
   },
   "outputs": [],
   "source": [
    "from stop_words import get_stop_words\n",
    "stop_words = get_stop_words('en')"
   ]
  },
  {
   "cell_type": "code",
   "execution_count": 71,
   "metadata": {
    "collapsed": false
   },
   "outputs": [],
   "source": [
    "# Removing stop words from dataframes (making a dataframe of words that appear that are not in stop_words)\n",
    "trump_df = trump_df[~trump_df[0].isin(stop_words)]\n",
    "hillary_df = hillary_df[~hillary_df[0].isin(stop_words)]\n",
    "gary_df = gary_df[~gary_df[0].isin(stop_words)]"
   ]
  },
  {
   "cell_type": "code",
   "execution_count": 76,
   "metadata": {
    "collapsed": true
   },
   "outputs": [],
   "source": [
    "# Export to CSV for fun baby.\n",
    "trump_df.to_csv('trump_twitter_clean.csv', encoding='utf-8')\n",
    "hillary_df.to_csv('hillary_twitter_clean.csv', encoding='utf-8')\n",
    "gary_df.to_csv('gary_twitter_clean.csv', encoding='utf-8')"
   ]
  },
  {
   "cell_type": "code",
   "execution_count": null,
   "metadata": {
    "collapsed": true
   },
   "outputs": [],
   "source": []
  },
  {
   "cell_type": "code",
   "execution_count": null,
   "metadata": {
    "collapsed": true
   },
   "outputs": [],
   "source": []
  },
  {
   "cell_type": "markdown",
   "metadata": {
    "collapsed": true
   },
   "source": [
    "# Creating a Word Cloud in Tableau:\n",
    "After loading your data into Tableau you want to make sure of a few things.\n",
    "\n",
    "1. That what you are trying to convert (the target) into a Word Cloud is a Dimension.  \n",
    "    Dimensions are on top and will create Blue pills when dragged onto the staging area.\n",
    "    Measures are in the space below and will create Green Pills when dragged into the staging area.\n",
    "    Note: We will be converting our Target Dimension to a Measure a few times.\n",
    "    \n",
    "2. Your default graph type is set to 'Square'.  You can see the graph type within the 'Marks' box.\n",
    "    Elements in the 'Marks' box such as 'Color', 'Size' and 'label' can be refered to as 'Filter Options' not to be           confused with the 'Filters' box right above.\n",
    "    When Handling large datasets Tableau can use alot of processing power when trying to scale a 'text' type chart             using sizes.  By starting with a 'Square' type chart we can avoid this issue and apply a filter later on to           deal with it."
   ]
  },
  {
   "cell_type": "markdown",
   "metadata": {},
   "source": [
    "### Step 1:\n",
    "Identify your target category (for this example I use \"Gary's words\") and drag it onto the 'Size' filter in the 'Marks' box."
   ]
  },
  {
   "cell_type": "markdown",
   "metadata": {},
   "source": [
    "![Step 1](Images/Step1.png)"
   ]
  },
  {
   "cell_type": "markdown",
   "metadata": {},
   "source": [
    "### Step 2: \n",
    "Convert the resulting Dimension pill into a 'Count' Measure.\n",
    "Notice how the color changes from Blue to Green"
   ]
  },
  {
   "cell_type": "markdown",
   "metadata": {
    "collapsed": false,
    "slideshow": {
     "slide_type": "slide"
    }
   },
   "source": [
    "![Step 2](Images/Step2.png)"
   ]
  },
  {
   "cell_type": "markdown",
   "metadata": {},
   "source": [
    "### Step 3:\n",
    "Once again, grab the Target Dimension and drag it into the Staging Area.\n",
    "Drop it on the 'Label' filter in the 'Marks' box."
   ]
  },
  {
   "cell_type": "markdown",
   "metadata": {
    "collapsed": false
   },
   "source": [
    "![Step 3](Images/Step3.png)"
   ]
  },
  {
   "cell_type": "markdown",
   "metadata": {},
   "source": [
    "### Step 4:\n",
    "We now get to see things coming together and the thousands of tiny squares that we dont care about too much.  \n",
    "\n",
    "If you are using a small dataset ( < 1000) you can try changing the Chart type to 'text', but if we did that it would take Tableau a really long time to process it.\n",
    "\n",
    "Instead, we are going to create a filter.  Once more we are going to start by grabing out target dimension and dragging it into the 'Marks' box.  Just drop it below the other two pills as its not going to stay there long."
   ]
  },
  {
   "cell_type": "markdown",
   "metadata": {
    "collapsed": false
   },
   "source": [
    "![Step 4](Images/Step4.png)"
   ]
  },
  {
   "cell_type": "markdown",
   "metadata": {},
   "source": [
    "### Step 5:\n",
    "Convert the new pill into a count measure again (Step 2, if you forgot).\n",
    "Once it is converted, drag the pill up into the 'Filters' box."
   ]
  },
  {
   "cell_type": "markdown",
   "metadata": {
    "collapsed": false
   },
   "source": [
    "![Step 5](Images/Step5.png)"
   ]
  },
  {
   "cell_type": "markdown",
   "metadata": {},
   "source": [
    "### Step 6:\n",
    "If all goes right you should have an edit filter box pop up like the one below.\n",
    "Select the criteria you want to not include.\n",
    "In this example we are excluding all words that appeared 20 times or fewer. \n",
    "\n",
    "Tip: If you right-click on your filter pill you can select 'Show-Filter which will create a nifty little slide scaler to adjust your filter criteria on the fly."
   ]
  },
  {
   "cell_type": "markdown",
   "metadata": {
    "collapsed": false
   },
   "source": [
    "![Step 6](Images/Step6.png)"
   ]
  },
  {
   "cell_type": "markdown",
   "metadata": {},
   "source": [
    "### Step 7:\n",
    "Now that we have our filter set up we can convert the chart to a text based chart without worry of using an excessive amount of processing and time.\n",
    "\n",
    "From the drop-down menu at the top of the 'Marks' box select ' Text'."
   ]
  },
  {
   "cell_type": "markdown",
   "metadata": {
    "collapsed": false
   },
   "source": [
    "![Step 7](Images/Step7.png)"
   ]
  },
  {
   "cell_type": "markdown",
   "metadata": {},
   "source": [
    "#### Ta Da!"
   ]
  },
  {
   "cell_type": "markdown",
   "metadata": {
    "collapsed": false
   },
   "source": [
    "![Step 7.1](Images/Step7.1.png)"
   ]
  },
  {
   "cell_type": "markdown",
   "metadata": {},
   "source": [
    "### Step 8:\n",
    "If you are happing with your cloud, you can stop here, but I also added a color density feature which helps words 'pop' a little more.\n",
    "\n",
    "Grab you target Dimension again and drag it onto the color filter in the 'Marks' box.  Select the new pill (it will be the blue one with the color logo next to it and convert it to the Count Measure again.\n",
    "\n",
    "You can also drag another any other feature you have here and see how each Dimension feature correlates to the Measure."
   ]
  },
  {
   "cell_type": "markdown",
   "metadata": {
    "collapsed": false
   },
   "source": [
    "![Step 8](Images/Step8.png)"
   ]
  },
  {
   "cell_type": "code",
   "execution_count": null,
   "metadata": {
    "collapsed": true
   },
   "outputs": [],
   "source": []
  }
 ],
 "metadata": {
  "celltoolbar": "Raw Cell Format",
  "kernelspec": {
   "display_name": "Python 2",
   "language": "python",
   "name": "python2"
  },
  "language_info": {
   "codemirror_mode": {
    "name": "ipython",
    "version": 2
   },
   "file_extension": ".py",
   "mimetype": "text/x-python",
   "name": "python",
   "nbconvert_exporter": "python",
   "pygments_lexer": "ipython2",
   "version": "2.7.11"
  }
 },
 "nbformat": 4,
 "nbformat_minor": 0
}
